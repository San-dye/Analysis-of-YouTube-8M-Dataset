{
 "metadata": {
  "language_info": {
   "codemirror_mode": {
    "name": "ipython",
    "version": 3
   },
   "file_extension": ".py",
   "mimetype": "text/x-python",
   "name": "python",
   "nbconvert_exporter": "python",
   "pygments_lexer": "ipython3",
   "version": "3.8.1"
  },
  "orig_nbformat": 2,
  "kernelspec": {
   "name": "python381jvsc74a57bd098c15b35245ecdc8b03f65cef943e10afb16f8e20f8ad6c610dbebcca1758bba",
   "display_name": "Python 3.8.1 32-bit"
  },
  "metadata": {
   "interpreter": {
    "hash": "98c15b35245ecdc8b03f65cef943e10afb16f8e20f8ad6c610dbebcca1758bba"
   }
  }
 },
 "nbformat": 4,
 "nbformat_minor": 2,
 "cells": [
  {
   "cell_type": "code",
   "execution_count": 50,
   "metadata": {},
   "outputs": [],
   "source": [
    "import numpy as np\n",
    "import pandas as pd\n",
    "from matplotlib import pyplot as plt \n",
    "import random\n"
   ]
  },
  {
   "cell_type": "code",
   "execution_count": 128,
   "metadata": {},
   "outputs": [],
   "source": [
    "data =pd.read_csv(filepath_or_buffer=\"https://download.mlcc.google.com/mledu-datasets/california_housing_train.csv\")"
   ]
  },
  {
   "cell_type": "code",
   "execution_count": 49,
   "metadata": {},
   "outputs": [
    {
     "output_type": "stream",
     "name": "stdout",
     "text": [
      "       longitude  latitude  housing_median_age  total_rooms  total_bedrooms  \\\n0         -114.3      34.2                15.0       5612.0          1283.0   \n1         -114.5      34.4                19.0       7650.0          1901.0   \n2         -114.6      33.7                17.0        720.0           174.0   \n3         -114.6      33.6                14.0       1501.0           337.0   \n4         -114.6      33.6                20.0       1454.0           326.0   \n...          ...       ...                 ...          ...             ...   \n16995     -124.3      40.6                52.0       2217.0           394.0   \n16996     -124.3      40.7                36.0       2349.0           528.0   \n16997     -124.3      41.8                17.0       2677.0           531.0   \n16998     -124.3      41.8                19.0       2672.0           552.0   \n16999     -124.3      40.5                52.0       1820.0           300.0   \n\n       population  households  median_income  median_house_value  count  \n0          1015.0       472.0            1.5             66900.0      1  \n1          1129.0       463.0            1.8             80100.0      1  \n2           333.0       117.0            1.7             85700.0      1  \n3           515.0       226.0            3.2             73400.0      1  \n4           624.0       262.0            1.9             65500.0      1  \n...           ...         ...            ...                 ...    ...  \n16995       907.0       369.0            2.4            111400.0      1  \n16996      1194.0       465.0            2.5             79000.0      1  \n16997      1244.0       456.0            3.0            103600.0      1  \n16998      1298.0       478.0            2.0             85800.0      1  \n16999       806.0       270.0            3.0             94600.0      1  \n\n[17000 rows x 10 columns]\n"
     ]
    }
   ],
   "source": [
    "print(data)"
   ]
  },
  {
   "cell_type": "code",
   "execution_count": 52,
   "metadata": {},
   "outputs": [
    {
     "output_type": "stream",
     "name": "stdout",
     "text": [
      "17000\n"
     ]
    }
   ],
   "source": [
    "print(len(data))"
   ]
  },
  {
   "cell_type": "code",
   "execution_count": 53,
   "metadata": {},
   "outputs": [
    {
     "output_type": "stream",
     "name": "stdout",
     "text": [
      "Index(['longitude', 'latitude', 'housing_median_age', 'total_rooms',\n       'total_bedrooms', 'population', 'households', 'median_income',\n       'median_house_value', 'count'],\n      dtype='object')\n"
     ]
    }
   ],
   "source": [
    "columns=data.columns\n",
    "print(columns)"
   ]
  },
  {
   "cell_type": "code",
   "execution_count": 54,
   "metadata": {},
   "outputs": [
    {
     "output_type": "stream",
     "name": "stdout",
     "text": [
      "0       -114.3\n1       -114.5\n2       -114.6\n3       -114.6\n4       -114.6\n         ...  \n16995   -124.3\n16996   -124.3\n16997   -124.3\n16998   -124.3\n16999   -124.3\nName: longitude, Length: 17000, dtype: float64\n"
     ]
    }
   ],
   "source": [
    "print(data['longitude'])"
   ]
  },
  {
   "cell_type": "code",
   "execution_count": 55,
   "metadata": {},
   "outputs": [
    {
     "output_type": "stream",
     "name": "stdout",
     "text": [
      "[-114.31 -114.47 -114.56 ... -124.3  -124.3  -124.35]\n-114.31\n"
     ]
    }
   ],
   "source": [
    "my_array=np.array(data['longitude'])\n",
    "print(my_array)\n",
    "print(my_array[0])"
   ]
  },
  {
   "cell_type": "code",
   "execution_count": 56,
   "metadata": {},
   "outputs": [
    {
     "output_type": "stream",
     "name": "stdout",
     "text": [
      "(17000, 10)\n"
     ]
    }
   ],
   "source": [
    "print(data.shape)"
   ]
  },
  {
   "cell_type": "code",
   "execution_count": 57,
   "metadata": {},
   "outputs": [],
   "source": [
    "data['count']=np.arange(1,17001)"
   ]
  },
  {
   "cell_type": "code",
   "execution_count": 58,
   "metadata": {},
   "outputs": [
    {
     "output_type": "stream",
     "name": "stdout",
     "text": [
      "       longitude  latitude  housing_median_age  total_rooms  total_bedrooms  \\\n0         -114.3      34.2                15.0       5612.0          1283.0   \n1         -114.5      34.4                19.0       7650.0          1901.0   \n2         -114.6      33.7                17.0        720.0           174.0   \n3         -114.6      33.6                14.0       1501.0           337.0   \n4         -114.6      33.6                20.0       1454.0           326.0   \n...          ...       ...                 ...          ...             ...   \n16995     -124.3      40.6                52.0       2217.0           394.0   \n16996     -124.3      40.7                36.0       2349.0           528.0   \n16997     -124.3      41.8                17.0       2677.0           531.0   \n16998     -124.3      41.8                19.0       2672.0           552.0   \n16999     -124.3      40.5                52.0       1820.0           300.0   \n\n       population  households  median_income  median_house_value  count  \n0          1015.0       472.0            1.5             66900.0      1  \n1          1129.0       463.0            1.8             80100.0      2  \n2           333.0       117.0            1.7             85700.0      3  \n3           515.0       226.0            3.2             73400.0      4  \n4           624.0       262.0            1.9             65500.0      5  \n...           ...         ...            ...                 ...    ...  \n16995       907.0       369.0            2.4            111400.0  16996  \n16996      1194.0       465.0            2.5             79000.0  16997  \n16997      1244.0       456.0            3.0            103600.0  16998  \n16998      1298.0       478.0            2.0             85800.0  16999  \n16999       806.0       270.0            3.0             94600.0  17000  \n\n[17000 rows x 10 columns]\n"
     ]
    }
   ],
   "source": [
    "print(data)"
   ]
  },
  {
   "cell_type": "code",
   "execution_count": 59,
   "metadata": {},
   "outputs": [
    {
     "output_type": "stream",
     "name": "stdout",
     "text": [
      "       longitude  latitude  housing_median_age  total_rooms  total_bedrooms  \\\n0         -114.3      34.2                15.0       5612.0          1283.0   \n1         -114.5      34.4                19.0       7650.0          1901.0   \n2         -114.6      33.7                17.0        720.0           174.0   \n3         -114.6      33.6                14.0       1501.0           337.0   \n4         -114.6      33.6                20.0       1454.0           326.0   \n...          ...       ...                 ...          ...             ...   \n16995     -124.3      40.6                52.0       2217.0           394.0   \n16996     -124.3      40.7                36.0       2349.0           528.0   \n16997     -124.3      41.8                17.0       2677.0           531.0   \n16998     -124.3      41.8                19.0       2672.0           552.0   \n16999     -124.3      40.5                52.0       1820.0           300.0   \n\n       population  households  median_income  median_house_value  count  \n0          1015.0       472.0            1.5             66900.0      1  \n1          1129.0       463.0            1.8             80100.0      1  \n2           333.0       117.0            1.7             85700.0      1  \n3           515.0       226.0            3.2             73400.0      1  \n4           624.0       262.0            1.9             65500.0      1  \n...           ...         ...            ...                 ...    ...  \n16995       907.0       369.0            2.4            111400.0      1  \n16996      1194.0       465.0            2.5             79000.0      1  \n16997      1244.0       456.0            3.0            103600.0      1  \n16998      1298.0       478.0            2.0             85800.0      1  \n16999       806.0       270.0            3.0             94600.0      1  \n\n[17000 rows x 10 columns]\n"
     ]
    }
   ],
   "source": [
    "data['count']=1\n",
    "print(data)"
   ]
  },
  {
   "cell_type": "code",
   "execution_count": 60,
   "metadata": {},
   "outputs": [
    {
     "output_type": "stream",
     "name": "stdout",
     "text": [
      "(17000,)\n"
     ]
    }
   ],
   "source": [
    "print(data['count'].shape)"
   ]
  },
  {
   "cell_type": "code",
   "execution_count": 129,
   "metadata": {},
   "outputs": [],
   "source": [
    "my_data=pd.DataFrame(data=my_array[:10])\n",
    "my_columns=['col1']\n",
    "my_data=pd.DataFrame(data=my_array[:10],columns=my_columns)\n",
    "my_data['col2']=my_data['col1']+random.randint(1,100)\n",
    "i=0\n",
    "my_data['col3']=(10)+(np.arange(10))"
   ]
  },
  {
   "cell_type": "code",
   "execution_count": 130,
   "metadata": {},
   "outputs": [
    {
     "output_type": "stream",
     "name": "stdout",
     "text": [
      "    col1  col2  col3\n0 -114.3 -55.3    10\n1 -114.5 -55.5    11\n2 -114.6 -55.6    12\n3 -114.6 -55.6    13\n4 -114.6 -55.6    14\n5 -114.6 -55.6    15\n6 -114.6 -55.6    16\n7 -114.6 -55.6    17\n8 -114.6 -55.6    18\n9 -114.6 -55.6    19\n"
     ]
    }
   ],
   "source": [
    "print(my_data)"
   ]
  },
  {
   "cell_type": "code",
   "execution_count": 117,
   "metadata": {},
   "outputs": [
    {
     "output_type": "stream",
     "name": "stdout",
     "text": [
      "lipi     1\njain     2\nhello    a\nworld    b\ndtype: object\n"
     ]
    }
   ],
   "source": [
    "my_series=pd.Series(data=[1,2,'a','b'],index=['lipi','jain','hello','world'])\n",
    "print(my_series)"
   ]
  },
  {
   "cell_type": "code",
   "execution_count": 124,
   "metadata": {},
   "outputs": [
    {
     "output_type": "stream",
     "name": "stdout",
     "text": [
      "4\n1\n(4,)\n[1 2 'a' 'b']\na\nhello\nTrue\n"
     ]
    }
   ],
   "source": [
    "print(my_series.size)\n",
    "print(my_series.ndim)\n",
    "print(my_series.shape)\n",
    "print(my_series.values)\n",
    "print(my_series.values[2])\n",
    "print(my_series.index[2])\n",
    "x='lipi' in my_series\n",
    "print(x)"
   ]
  },
  {
   "cell_type": "code",
   "execution_count": 125,
   "metadata": {},
   "outputs": [
    {
     "output_type": "stream",
     "name": "stdout",
     "text": [
      "       longitude  latitude  housing_median_age  total_rooms  total_bedrooms  \\\n0         -114.3      34.2                15.0       5612.0          1283.0   \n1         -114.5      34.4                19.0       7650.0          1901.0   \n2         -114.6      33.7                17.0        720.0           174.0   \n3         -114.6      33.6                14.0       1501.0           337.0   \n4         -114.6      33.6                20.0       1454.0           326.0   \n...          ...       ...                 ...          ...             ...   \n16995     -124.3      40.6                52.0       2217.0           394.0   \n16996     -124.3      40.7                36.0       2349.0           528.0   \n16997     -124.3      41.8                17.0       2677.0           531.0   \n16998     -124.3      41.8                19.0       2672.0           552.0   \n16999     -124.3      40.5                52.0       1820.0           300.0   \n\n       population  households  median_income  median_house_value  count  \n0          1015.0       472.0            1.5             66900.0      1  \n1          1129.0       463.0            1.8             80100.0      1  \n2           333.0       117.0            1.7             85700.0      1  \n3           515.0       226.0            3.2             73400.0      1  \n4           624.0       262.0            1.9             65500.0      1  \n...           ...         ...            ...                 ...    ...  \n16995       907.0       369.0            2.4            111400.0      1  \n16996      1194.0       465.0            2.5             79000.0      1  \n16997      1244.0       456.0            3.0            103600.0      1  \n16998      1298.0       478.0            2.0             85800.0      1  \n16999       806.0       270.0            3.0             94600.0      1  \n\n[17000 rows x 10 columns]\n"
     ]
    }
   ],
   "source": [
    "print(data)"
   ]
  },
  {
   "cell_type": "code",
   "execution_count": 136,
   "metadata": {},
   "outputs": [
    {
     "output_type": "stream",
     "name": "stdout",
     "text": [
      "<bound method NDFrame._add_numeric_operations.<locals>.sum of 0    10\n1    11\n2    12\n3    13\n4    14\n5    15\n6    16\n7    17\n8    18\n9    19\nName: col3, dtype: int32>\n"
     ]
    }
   ],
   "source": [
    "sum=(my_data['col3'].sum)\n",
    "print(sum)"
   ]
  },
  {
   "cell_type": "code",
   "execution_count": 141,
   "metadata": {},
   "outputs": [
    {
     "output_type": "stream",
     "name": "stdout",
     "text": [
      "<bound method NDFrame._add_numeric_operations.<locals>.max of     col1  col2  col3\n0 -114.3 -55.3    10\n1 -114.5 -55.5    11\n2 -114.6 -55.6    12\n3 -114.6 -55.6    13\n4 -114.6 -55.6    14\n5 -114.6 -55.6    15\n6 -114.6 -55.6    16\n7 -114.6 -55.6    17\n8 -114.6 -55.6    18\n9 -114.6 -55.6    19>\n"
     ]
    }
   ],
   "source": [
    "max=my_data.max\n",
    "print(max)"
   ]
  },
  {
   "cell_type": "code",
   "execution_count": 179,
   "metadata": {},
   "outputs": [
    {
     "output_type": "stream",
     "name": "stdout",
     "text": [
      "   longitude  latitude  housing_median_age  total_rooms  total_bedrooms  \\\n0        NaN       NaN                 NaN          NaN             NaN   \n1        NaN       NaN                 NaN          NaN             NaN   \n2        NaN       NaN                 NaN          NaN             NaN   \n3        NaN       NaN                 NaN          NaN             NaN   \n4        NaN       NaN                 NaN          NaN             NaN   \n5        NaN       NaN                 NaN          NaN             NaN   \n6        NaN       NaN                 NaN          NaN             NaN   \n7        NaN       NaN                 NaN          NaN             NaN   \n\n   population  households  median_income  median_house_value  \n0         NaN         NaN            NaN                 NaN  \n1         NaN         NaN            NaN                 NaN  \n2         NaN         NaN            NaN                 NaN  \n3         NaN         NaN            NaN                 NaN  \n4         NaN         NaN            NaN                 NaN  \n5         NaN         NaN            NaN                 NaN  \n6         NaN         NaN            NaN                 NaN  \n7         NaN         NaN            NaN                 NaN  \n       longitude  latitude  housing_median_age  total_rooms  total_bedrooms  \\\n13391     -121.9      38.0                18.0       2541.0           355.0   \n6807      -118.3      34.1                32.0       2880.0          1063.0   \n300       -116.8      34.2                15.0       8948.0          1985.0   \n7192      -118.3      34.1                50.0       2989.0           832.0   \n13179     -121.9      37.2                23.0       2705.0           449.0   \n9621      -119.4      36.6                32.0       1153.0           236.0   \n11526     -121.3      37.9                33.0       2109.0           531.0   \n15783     -122.4      37.8                52.0        361.0            76.0   \n\n       population  households  median_income  median_house_value  \n13391       986.0       346.0            7.2            288000.0  \n6807       3646.0      1028.0            2.4            258300.0  \n300        1316.0       514.0            2.7             90800.0  \n7192       1345.0       775.0            3.2            442900.0  \n13179      1180.0       442.0            6.1            316500.0  \n9621        761.0       241.0            2.8             67600.0  \n11526      2248.0       588.0            1.5             53000.0  \n15783       168.0        55.0            3.2            275000.0  \n"
     ]
    }
   ],
   "source": [
    "df=data.sample(frac=0.0005)\n",
    "daf=pd.DataFrame(df,index=[np.arange(8)])\n",
    "print(daf)\n",
    "print(df)"
   ]
  },
  {
   "cell_type": "code",
   "execution_count": 192,
   "metadata": {},
   "outputs": [
    {
     "output_type": "stream",
     "name": "stdout",
     "text": [
      "       longitude  latitude  housing_median_age  total_rooms  total_bedrooms  \\\n13391     -121.9      38.0                18.0       2541.0           355.0   \n6807      -118.3      34.1                32.0       2880.0          1063.0   \n300       -116.8      34.2                15.0       8948.0          1985.0   \n7192      -118.3      34.1                50.0       2989.0           832.0   \n13179     -121.9      37.2                23.0       2705.0           449.0   \n9621      -119.4      36.6                32.0       1153.0           236.0   \n11526     -121.3      37.9                33.0       2109.0           531.0   \n15783     -122.4      37.8                52.0        361.0            76.0   \n\n       population  households  median_income  median_house_value  \n13391       986.0       346.0            7.2                 0.5  \n6807       3646.0      1028.0            2.4                 0.2  \n300        1316.0       514.0            2.7                -1.0  \n7192       1345.0       775.0            3.2                 1.6  \n13179      1180.0       442.0            6.1                 0.7  \n9621        761.0       241.0            2.8                -1.1  \n11526      2248.0       588.0            1.5                -1.2  \n15783       168.0        55.0            3.2                 0.4  \n"
     ]
    }
   ],
   "source": [
    "\n",
    "mean=df['median_house_value'].mean(axis=0)\n",
    "sd=df['median_house_value'].std(axis=0)\n",
    "df['median_house_value']=(df['median_house_value']-mean)/sd\n",
    "print(df)"
   ]
  },
  {
   "cell_type": "code",
   "execution_count": 193,
   "metadata": {},
   "outputs": [
    {
     "output_type": "execute_result",
     "data": {
      "text/plain": [
       "longitude             -960.4\n",
       "latitude               289.9\n",
       "housing_median_age     255.0\n",
       "total_rooms          23686.0\n",
       "total_bedrooms        5527.0\n",
       "population           11650.0\n",
       "households            3989.0\n",
       "median_income           29.2\n",
       "median_house_value       0.0\n",
       "dtype: float64"
      ]
     },
     "metadata": {},
     "execution_count": 193
    }
   ],
   "source": [
    "df.sum(axis=0)"
   ]
  },
  {
   "cell_type": "code",
   "execution_count": null,
   "metadata": {},
   "outputs": [],
   "source": []
  }
 ]
}